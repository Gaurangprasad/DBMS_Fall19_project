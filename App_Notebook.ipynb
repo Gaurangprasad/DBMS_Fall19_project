{
 "cells": [
  {
   "cell_type": "code",
   "execution_count": 1,
   "metadata": {},
   "outputs": [
    {
     "ename": "ModuleNotFoundError",
     "evalue": "No module named 'psycopg2'",
     "output_type": "error",
     "traceback": [
      "\u001b[0;31m---------------------------------------------------------------------------\u001b[0m",
      "\u001b[0;31mModuleNotFoundError\u001b[0m                       Traceback (most recent call last)",
      "\u001b[0;32m<ipython-input-1-c0c454444797>\u001b[0m in \u001b[0;36m<module>\u001b[0;34m\u001b[0m\n\u001b[1;32m      1\u001b[0m \u001b[0;31m# Keeping this class here for now (easy to test). Will move this to a separate .py file when we do code-cleanup/ submission\u001b[0m\u001b[0;34m\u001b[0m\u001b[0;34m\u001b[0m\u001b[0;34m\u001b[0m\u001b[0m\n\u001b[1;32m      2\u001b[0m \u001b[0;34m\u001b[0m\u001b[0m\n\u001b[0;32m----> 3\u001b[0;31m \u001b[0;32mimport\u001b[0m \u001b[0mpsycopg2\u001b[0m\u001b[0;34m\u001b[0m\u001b[0;34m\u001b[0m\u001b[0m\n\u001b[0m\u001b[1;32m      4\u001b[0m \u001b[0;32mimport\u001b[0m \u001b[0mpsycopg2\u001b[0m\u001b[0;34m.\u001b[0m\u001b[0mextras\u001b[0m\u001b[0;34m\u001b[0m\u001b[0;34m\u001b[0m\u001b[0m\n\u001b[1;32m      5\u001b[0m \u001b[0;32mimport\u001b[0m \u001b[0mre\u001b[0m\u001b[0;34m\u001b[0m\u001b[0;34m\u001b[0m\u001b[0m\n",
      "\u001b[0;31mModuleNotFoundError\u001b[0m: No module named 'psycopg2'"
     ]
    }
   ],
   "source": [
    "# Keeping this class here for now (easy to test). Will move this to a separate .py file when we do code-cleanup/ submission\n",
    "\n",
    "import psycopg2\n",
    "!{psycopg2.executable} -m pip install psycopg2\n",
    "import psycopg2.extras\n",
    "import re\n",
    "import pandas\n",
    "\n",
    "\n",
    "class FoodViolationData:\n",
    "\n",
    "    def __init__(self, connection_string):\n",
    "        self.conn = psycopg2.connect(connection_string)\n",
    "\n",
    "    class FoodViolationQuery:\n",
    "\n",
    "        def __init__(self, product_data):\n",
    "            self.joins = []\n",
    "            self.conditions = []\n",
    "            self.parameters = {}\n",
    "            self.product_data = product_data\n",
    "\n",
    "            self.named_params = {}\n",
    "\n",
    "        def __param_index(self, param_name):\n",
    "\n",
    "            if param_name not in self.named_params:\n",
    "                self.named_params.update({param_name: 0})\n",
    "                return 0\n",
    "            else:\n",
    "                i = self.named_params[param_name] + 1\n",
    "                self.named_params.update({param_name: i})\n",
    "                return i\n",
    "        \n",
    "        def searchByCounty(self, name):\n",
    "            i = str(self.__param_index(\"county\"))\n",
    "            self.conditions.append(\"\"\" \"COUNTY\" like %(county\"\"\" + i + \")s\")\n",
    "            #print(i)\n",
    "            #print(name)\n",
    "            #self.conditions.append(\"\"\" \"COUNTY\" like '%%\"\"\" + name + \"\"\"%%' \"\"\")\n",
    "            #print(self.conditions)\n",
    "            self.parameters.update({\"county\" + i: \"%\" + name + \"%\"})\n",
    "            #print(self.parameters)\n",
    "            return self\n",
    "\n",
    "        def searchByOperatorID(self, health_opID):\n",
    "            i = str(self.__param_index(\"health_operation_id\"))\n",
    "            self.conditions.append(\"\"\" \"NYS HEALTH OPERATION ID\" = %(health_operation_id\"\"\" + i + \")s\")\n",
    "            #print(i)\n",
    "            #print(name)\n",
    "            #self.conditions.append(\"\"\" \"COUNTY\" like '%%\"\"\" + name + \"\"\"%%' \"\"\")\n",
    "            #print(self.conditions)\n",
    "            self.parameters.update({\"health_operation_id\" + i: health_opID})\n",
    "            #print(self.parameters)\n",
    "            return self\n",
    "\n",
    "        def __compile(self):\n",
    "            query = \"SELECT * from food_service_inspections\"\n",
    "            query = query + \" \" + \" \".join(self.joins) if self.joins else query\n",
    "            query = query + \" WHERE \" + \" AND \".join(self.conditions) if self.conditions else query\n",
    "            #query += \" ORDER BY food_service_inspections.code\"\n",
    "            return query\n",
    "\n",
    "        def run(self):\n",
    "            query = self.__compile()\n",
    "            #query = \"\"\"select * from food_service_inspections where \"COUNTY\" like 'ALB%%' limit 3\"\"\"\n",
    "            with self.product_data.conn.cursor(cursor_factory=psycopg2.extras.RealDictCursor) as cursor:\n",
    "                print(query)\n",
    "                cursor.execute(query, self.parameters)\n",
    "                return pandas.DataFrame(cursor.fetchall())\n",
    "\n",
    "        def show(self):\n",
    "            query = self.__compile()\n",
    "            with self.product_data.conn.cursor(cursor_factory=psycopg2.extras.RealDictCursor) as cursor:\n",
    "                return cursor.mogrify(query, self.parameters)\n",
    "\n",
    "    def query(self):\n",
    "        return self.FoodViolationQuery(self)"
   ]
  },
  {
   "cell_type": "code",
   "execution_count": 9,
   "metadata": {},
   "outputs": [
    {
     "ename": "ModuleNotFoundError",
     "evalue": "No module named 'pandas'",
     "output_type": "error",
     "traceback": [
      "\u001b[0;31m---------------------------------------------------------------------------\u001b[0m",
      "\u001b[0;31mModuleNotFoundError\u001b[0m                       Traceback (most recent call last)",
      "\u001b[0;32m<ipython-input-9-d99e80da323f>\u001b[0m in \u001b[0;36m<module>\u001b[0;34m\u001b[0m\n\u001b[1;32m      1\u001b[0m \u001b[0;32mimport\u001b[0m \u001b[0mre\u001b[0m\u001b[0;34m\u001b[0m\u001b[0;34m\u001b[0m\u001b[0m\n\u001b[0;32m----> 2\u001b[0;31m \u001b[0;32mimport\u001b[0m \u001b[0mpandas\u001b[0m\u001b[0;34m\u001b[0m\u001b[0;34m\u001b[0m\u001b[0m\n\u001b[0m\u001b[1;32m      3\u001b[0m \u001b[0;32mimport\u001b[0m \u001b[0mmatplotlib\u001b[0m\u001b[0;34m\u001b[0m\u001b[0;34m\u001b[0m\u001b[0m\n",
      "\u001b[0;31mModuleNotFoundError\u001b[0m: No module named 'pandas'"
     ]
    }
   ],
   "source": [
    "import re\n",
    "import pandas\n",
    "import matplotlib"
   ]
  },
  {
   "cell_type": "code",
   "execution_count": 5,
   "metadata": {},
   "outputs": [
    {
     "ename": "NameError",
     "evalue": "name 'FoodViolationData' is not defined",
     "output_type": "error",
     "traceback": [
      "\u001b[0;31m---------------------------------------------------------------------------\u001b[0m",
      "\u001b[0;31mNameError\u001b[0m                                 Traceback (most recent call last)",
      "\u001b[0;32m<ipython-input-5-c580f3d92bfb>\u001b[0m in \u001b[0;36m<module>\u001b[0;34m\u001b[0m\n\u001b[0;32m----> 1\u001b[0;31m \u001b[0mfd_vio\u001b[0m \u001b[0;34m=\u001b[0m \u001b[0mFoodViolationData\u001b[0m\u001b[0;34m(\u001b[0m\u001b[0;34m\"host='localhost' dbname='test5' user='test5' password='test5'\"\u001b[0m\u001b[0;34m)\u001b[0m\u001b[0;34m\u001b[0m\u001b[0;34m\u001b[0m\u001b[0m\n\u001b[0m",
      "\u001b[0;31mNameError\u001b[0m: name 'FoodViolationData' is not defined"
     ]
    }
   ],
   "source": [
    "fd_vio = FoodViolationData(\"host='localhost' dbname='test5' user='test5' password='test5'\")"
   ]
  },
  {
   "cell_type": "code",
   "execution_count": 6,
   "metadata": {},
   "outputs": [
    {
     "ename": "NameError",
     "evalue": "name 'fd_vio' is not defined",
     "output_type": "error",
     "traceback": [
      "\u001b[0;31m---------------------------------------------------------------------------\u001b[0m",
      "\u001b[0;31mNameError\u001b[0m                                 Traceback (most recent call last)",
      "\u001b[0;32m<ipython-input-6-c2602dff9588>\u001b[0m in \u001b[0;36m<module>\u001b[0;34m\u001b[0m\n\u001b[1;32m      1\u001b[0m \u001b[0;31m# Searching for rows with have \"BANY\" and \"NAS\" in their county names (expect 0 rows)\u001b[0m\u001b[0;34m\u001b[0m\u001b[0;34m\u001b[0m\u001b[0;34m\u001b[0m\u001b[0m\n\u001b[0;32m----> 2\u001b[0;31m \u001b[0mfd_vio\u001b[0m\u001b[0;34m.\u001b[0m\u001b[0mquery\u001b[0m\u001b[0;34m(\u001b[0m\u001b[0;34m)\u001b[0m\u001b[0;34m.\u001b[0m\u001b[0msearchByOperatorID\u001b[0m\u001b[0;34m(\u001b[0m\u001b[0;34m\"687080\"\u001b[0m\u001b[0;34m)\u001b[0m\u001b[0;34m.\u001b[0m\u001b[0msearchByCounty\u001b[0m\u001b[0;34m(\u001b[0m\u001b[0;34m\"BAN\"\u001b[0m\u001b[0;34m)\u001b[0m\u001b[0;34m.\u001b[0m\u001b[0mrun\u001b[0m\u001b[0;34m(\u001b[0m\u001b[0;34m)\u001b[0m\u001b[0;34m\u001b[0m\u001b[0;34m\u001b[0m\u001b[0m\n\u001b[0m",
      "\u001b[0;31mNameError\u001b[0m: name 'fd_vio' is not defined"
     ]
    }
   ],
   "source": [
    "# Searching for rows with have \"BANY\" and \"NAS\" in their county names (expect 0 rows)\n",
    "fd_vio.query().searchByOperatorID(\"687080\").searchByCounty(\"BAN\").run()"
   ]
  },
  {
   "cell_type": "code",
   "execution_count": 8,
   "metadata": {},
   "outputs": [
    {
     "ename": "NameError",
     "evalue": "name 'fd_vio' is not defined",
     "output_type": "error",
     "traceback": [
      "\u001b[0;31m---------------------------------------------------------------------------\u001b[0m",
      "\u001b[0;31mNameError\u001b[0m                                 Traceback (most recent call last)",
      "\u001b[0;32m<ipython-input-8-6920e9663eaf>\u001b[0m in \u001b[0;36m<module>\u001b[0;34m\u001b[0m\n\u001b[1;32m      1\u001b[0m \u001b[0;31m# Just searching for \"BANY\" in COUNTY names\u001b[0m\u001b[0;34m\u001b[0m\u001b[0;34m\u001b[0m\u001b[0;34m\u001b[0m\u001b[0m\n\u001b[0;32m----> 2\u001b[0;31m \u001b[0mfd_vio\u001b[0m\u001b[0;34m.\u001b[0m\u001b[0mquery\u001b[0m\u001b[0;34m(\u001b[0m\u001b[0;34m)\u001b[0m\u001b[0;34m.\u001b[0m\u001b[0msearchByCounty\u001b[0m\u001b[0;34m(\u001b[0m\u001b[0;34m\"BANY\"\u001b[0m\u001b[0;34m)\u001b[0m\u001b[0;34m.\u001b[0m\u001b[0mrun\u001b[0m\u001b[0;34m(\u001b[0m\u001b[0;34m)\u001b[0m\u001b[0;34m\u001b[0m\u001b[0;34m\u001b[0m\u001b[0m\n\u001b[0m",
      "\u001b[0;31mNameError\u001b[0m: name 'fd_vio' is not defined"
     ]
    }
   ],
   "source": [
    "# Just searching for \"BANY\" in COUNTY names\n",
    "fd_vio.query().searchByCounty(\"BANY\").run()"
   ]
  },
  {
   "cell_type": "code",
   "execution_count": 96,
   "metadata": {},
   "outputs": [
    {
     "name": "stdout",
     "output_type": "stream",
     "text": [
      "SELECT * from food_service_inspections WHERE  \"COUNTY\" like %(county0)s AND  \"COUNTY\" like %(county1)s AND  \"COUNTY\" like %(county2)s\n"
     ]
    },
    {
     "data": {
      "text/html": [
       "<div>\n",
       "<style scoped>\n",
       "    .dataframe tbody tr th:only-of-type {\n",
       "        vertical-align: middle;\n",
       "    }\n",
       "\n",
       "    .dataframe tbody tr th {\n",
       "        vertical-align: top;\n",
       "    }\n",
       "\n",
       "    .dataframe thead th {\n",
       "        text-align: right;\n",
       "    }\n",
       "</style>\n",
       "<table border=\"1\" class=\"dataframe\">\n",
       "  <thead>\n",
       "    <tr style=\"text-align: right;\">\n",
       "      <th></th>\n",
       "    </tr>\n",
       "  </thead>\n",
       "  <tbody>\n",
       "  </tbody>\n",
       "</table>\n",
       "</div>"
      ],
      "text/plain": [
       "Empty DataFrame\n",
       "Columns: []\n",
       "Index: []"
      ]
     },
     "execution_count": 96,
     "metadata": {},
     "output_type": "execute_result"
    }
   ],
   "source": [
    "#Searching 3 at time, should return 0 rows\n",
    "fd_vio.query().searchByCounty(\"BANY\").searchByCounty(\"NAS\").searchByCounty(\"Test\").run()"
   ]
  },
  {
   "cell_type": "code",
   "execution_count": null,
   "metadata": {},
   "outputs": [],
   "source": []
  }
 ],
 "metadata": {
  "kernelspec": {
   "display_name": "Python 3",
   "language": "python",
   "name": "python3"
  },
  "language_info": {
   "codemirror_mode": {
    "name": "ipython",
    "version": 3
   },
   "file_extension": ".py",
   "mimetype": "text/x-python",
   "name": "python",
   "nbconvert_exporter": "python",
   "pygments_lexer": "ipython3",
   "version": "3.7.3"
  }
 },
 "nbformat": 4,
 "nbformat_minor": 2
}